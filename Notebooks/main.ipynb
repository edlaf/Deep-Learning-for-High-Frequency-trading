{
 "cells": [
  {
   "cell_type": "markdown",
   "metadata": {},
   "source": [
    "# DEEP REINFORCEMENT LEARNING FOR HIGH FREQUENCY TRADING\n"
   ]
  },
  {
   "cell_type": "code",
   "execution_count": null,
   "metadata": {},
   "outputs": [],
   "source": [
    "# importing libraries\n",
    "import os\n",
    "import sys\n",
    "root = os.path.abspath(os.path.join(os.getcwd(), \"..\"))\n",
    "if root not in sys.path:\n",
    "    sys.path.insert(0, root)\n",
    "import backend.QRModel.QR_only as qr\n",
    "\n",
    "import backend.RL_agents.QDRL as QDL_Agent\n",
    "import backend.QRModel.QR_only as qr"
   ]
  },
  {
   "cell_type": "markdown",
   "metadata": {},
   "source": [
    "We present an entire environement and agent for high frequency trading. The environement is mainly based on the Queue Reactive model (QR) created by M. Rosenbaum and C-A. Lehalle, with some minor twists, especially in the handling of exogenous information. The parameters are changeable in the backend/utils.intensity_fct_params file. Once defined they are used by every file of the project.\n",
    "\n",
    "We first give a simulation of the QR model."
   ]
  },
  {
   "cell_type": "code",
   "execution_count": null,
   "metadata": {},
   "outputs": [],
   "source": [
    "qr.Run_QR_simulated(10000, False)"
   ]
  },
  {
   "cell_type": "markdown",
   "metadata": {},
   "source": [
    "We then train an agent on it using deep Q-reinforcement Learning to start with."
   ]
  },
  {
   "cell_type": "code",
   "execution_count": null,
   "metadata": {},
   "outputs": [
    {
     "name": "stderr",
     "output_type": "stream",
     "text": [
      "Entraînement:   2%|▏         | 173/10000 [00:05<05:12, 31.44it/s, total_reward=-7.50] "
     ]
    }
   ],
   "source": [
    "QDL_Agent.train(nb_episode = 10000, window_size = 20)"
   ]
  }
 ],
 "metadata": {
  "kernelspec": {
   "display_name": "IA_m1",
   "language": "python",
   "name": "python3"
  },
  "language_info": {
   "codemirror_mode": {
    "name": "ipython",
    "version": 3
   },
   "file_extension": ".py",
   "mimetype": "text/x-python",
   "name": "python",
   "nbconvert_exporter": "python",
   "pygments_lexer": "ipython3",
   "version": "3.9.16"
  }
 },
 "nbformat": 4,
 "nbformat_minor": 2
}
